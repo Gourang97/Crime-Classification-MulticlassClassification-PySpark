{
  "nbformat": 4,
  "nbformat_minor": 0,
  "metadata": {
    "colab": {
      "name": "MultiClassClassification.ipynb",
      "provenance": [],
      "mount_file_id": "1C7OU1xitK0mNNB1z9rpwN_WvXBSBXnrU",
      "authorship_tag": "ABX9TyODfCwjHcWxDb/x+j/8omZ0",
      "include_colab_link": true
    },
    "kernelspec": {
      "name": "python3",
      "display_name": "Python 3"
    }
  },
  "cells": [
    {
      "cell_type": "markdown",
      "metadata": {
        "id": "view-in-github",
        "colab_type": "text"
      },
      "source": [
        "<a href=\"https://colab.research.google.com/github/Gourang97/PySpark/blob/main/MultiClassClassification.ipynb\" target=\"_parent\"><img src=\"https://colab.research.google.com/assets/colab-badge.svg\" alt=\"Open In Colab\"/></a>"
      ]
    },
    {
      "cell_type": "code",
      "metadata": {
        "colab": {
          "base_uri": "https://localhost:8080/"
        },
        "id": "8MbnpqIJlKVf",
        "outputId": "0fe36d5e-cbc0-47a6-a414-83f7decaa12c"
      },
      "source": [
        "!pip install pyspark "
      ],
      "execution_count": null,
      "outputs": [
        {
          "output_type": "stream",
          "text": [
            "Collecting pyspark\n",
            "\u001b[?25l  Downloading https://files.pythonhosted.org/packages/f0/26/198fc8c0b98580f617cb03cb298c6056587b8f0447e20fa40c5b634ced77/pyspark-3.0.1.tar.gz (204.2MB)\n",
            "\u001b[K     |████████████████████████████████| 204.2MB 60kB/s \n",
            "\u001b[?25hCollecting py4j==0.10.9\n",
            "\u001b[?25l  Downloading https://files.pythonhosted.org/packages/9e/b6/6a4fb90cd235dc8e265a6a2067f2a2c99f0d91787f06aca4bcf7c23f3f80/py4j-0.10.9-py2.py3-none-any.whl (198kB)\n",
            "\u001b[K     |████████████████████████████████| 204kB 33.9MB/s \n",
            "\u001b[?25hBuilding wheels for collected packages: pyspark\n",
            "  Building wheel for pyspark (setup.py) ... \u001b[?25l\u001b[?25hdone\n",
            "  Created wheel for pyspark: filename=pyspark-3.0.1-py2.py3-none-any.whl size=204612243 sha256=0f92e3e98e0f38ada4617b6cb238eb8322a5987bd4f2a9dc97a37899d59bafc9\n",
            "  Stored in directory: /root/.cache/pip/wheels/5e/bd/07/031766ca628adec8435bb40f0bd83bb676ce65ff4007f8e73f\n",
            "Successfully built pyspark\n",
            "Installing collected packages: py4j, pyspark\n",
            "Successfully installed py4j-0.10.9 pyspark-3.0.1\n"
          ],
          "name": "stdout"
        }
      ]
    },
    {
      "cell_type": "markdown",
      "metadata": {
        "id": "t-PT537EB3Ku"
      },
      "source": [
        "##***Multi-Class Text Classification with PySpark***"
      ]
    },
    {
      "cell_type": "code",
      "metadata": {
        "colab": {
          "base_uri": "https://localhost:8080/"
        },
        "id": "4MSFL1Znc38R",
        "outputId": "745b5a13-a6dd-43bc-8219-6c073ddde553"
      },
      "source": [
        "from google.colab import drive\r\n",
        "drive.mount('/content/drive')\r\n",
        "!unzip /content/drive/MyDrive/dataset/train.csv.zip\r\n",
        "!unzip /content/drive/MyDrive/dataset/test.csv.zip"
      ],
      "execution_count": 6,
      "outputs": [
        {
          "output_type": "stream",
          "text": [
            "Drive already mounted at /content/drive; to attempt to forcibly remount, call drive.mount(\"/content/drive\", force_remount=True).\n",
            "Archive:  /content/drive/MyDrive/dataset/test.csv.zip\n",
            "  inflating: test.csv                \n"
          ],
          "name": "stdout"
        }
      ]
    },
    {
      "cell_type": "code",
      "metadata": {
        "colab": {
          "base_uri": "https://localhost:8080/",
          "height": 281
        },
        "id": "ksWp4Egol21B",
        "outputId": "01c465a9-437f-4505-d9f1-e883cd240d8b"
      },
      "source": [
        "from pyspark.sql import SQLContext\r\n",
        "from pyspark import SparkContext\r\n",
        "sc= SparkContext()\r\n",
        "sqlContext = SQLContext(sc)"
      ],
      "execution_count": 7,
      "outputs": [
        {
          "output_type": "error",
          "ename": "ValueError",
          "evalue": "ignored",
          "traceback": [
            "\u001b[0;31m---------------------------------------------------------------------------\u001b[0m",
            "\u001b[0;31mValueError\u001b[0m                                Traceback (most recent call last)",
            "\u001b[0;32m<ipython-input-7-e7be16e9f835>\u001b[0m in \u001b[0;36m<module>\u001b[0;34m()\u001b[0m\n\u001b[1;32m      2\u001b[0m \u001b[0;32mfrom\u001b[0m \u001b[0mpyspark\u001b[0m\u001b[0;34m.\u001b[0m\u001b[0msql\u001b[0m \u001b[0;32mimport\u001b[0m \u001b[0mSQLContext\u001b[0m\u001b[0;34m\u001b[0m\u001b[0;34m\u001b[0m\u001b[0m\n\u001b[1;32m      3\u001b[0m \u001b[0;32mfrom\u001b[0m \u001b[0mpyspark\u001b[0m \u001b[0;32mimport\u001b[0m \u001b[0mSparkContext\u001b[0m\u001b[0;34m\u001b[0m\u001b[0;34m\u001b[0m\u001b[0m\n\u001b[0;32m----> 4\u001b[0;31m \u001b[0msc\u001b[0m\u001b[0;34m=\u001b[0m \u001b[0mSparkContext\u001b[0m\u001b[0;34m(\u001b[0m\u001b[0;34m)\u001b[0m\u001b[0;34m\u001b[0m\u001b[0;34m\u001b[0m\u001b[0m\n\u001b[0m\u001b[1;32m      5\u001b[0m \u001b[0msqlContext\u001b[0m \u001b[0;34m=\u001b[0m \u001b[0mSQLContext\u001b[0m\u001b[0;34m(\u001b[0m\u001b[0msc\u001b[0m\u001b[0;34m)\u001b[0m\u001b[0;34m\u001b[0m\u001b[0;34m\u001b[0m\u001b[0m\n\u001b[1;32m      6\u001b[0m \u001b[0;34m\u001b[0m\u001b[0m\n",
            "\u001b[0;32m/usr/local/lib/python3.6/dist-packages/pyspark/context.py\u001b[0m in \u001b[0;36m__init__\u001b[0;34m(self, master, appName, sparkHome, pyFiles, environment, batchSize, serializer, conf, gateway, jsc, profiler_cls)\u001b[0m\n\u001b[1;32m    131\u001b[0m                 \" is not allowed as it is a security risk.\")\n\u001b[1;32m    132\u001b[0m \u001b[0;34m\u001b[0m\u001b[0m\n\u001b[0;32m--> 133\u001b[0;31m         \u001b[0mSparkContext\u001b[0m\u001b[0;34m.\u001b[0m\u001b[0m_ensure_initialized\u001b[0m\u001b[0;34m(\u001b[0m\u001b[0mself\u001b[0m\u001b[0;34m,\u001b[0m \u001b[0mgateway\u001b[0m\u001b[0;34m=\u001b[0m\u001b[0mgateway\u001b[0m\u001b[0;34m,\u001b[0m \u001b[0mconf\u001b[0m\u001b[0;34m=\u001b[0m\u001b[0mconf\u001b[0m\u001b[0;34m)\u001b[0m\u001b[0;34m\u001b[0m\u001b[0;34m\u001b[0m\u001b[0m\n\u001b[0m\u001b[1;32m    134\u001b[0m         \u001b[0;32mtry\u001b[0m\u001b[0;34m:\u001b[0m\u001b[0;34m\u001b[0m\u001b[0;34m\u001b[0m\u001b[0m\n\u001b[1;32m    135\u001b[0m             self._do_init(master, appName, sparkHome, pyFiles, environment, batchSize, serializer,\n",
            "\u001b[0;32m/usr/local/lib/python3.6/dist-packages/pyspark/context.py\u001b[0m in \u001b[0;36m_ensure_initialized\u001b[0;34m(cls, instance, gateway, conf)\u001b[0m\n\u001b[1;32m    339\u001b[0m                         \u001b[0;34m\" created by %s at %s:%s \"\u001b[0m\u001b[0;34m\u001b[0m\u001b[0;34m\u001b[0m\u001b[0m\n\u001b[1;32m    340\u001b[0m                         % (currentAppName, currentMaster,\n\u001b[0;32m--> 341\u001b[0;31m                             callsite.function, callsite.file, callsite.linenum))\n\u001b[0m\u001b[1;32m    342\u001b[0m                 \u001b[0;32melse\u001b[0m\u001b[0;34m:\u001b[0m\u001b[0;34m\u001b[0m\u001b[0;34m\u001b[0m\u001b[0m\n\u001b[1;32m    343\u001b[0m                     \u001b[0mSparkContext\u001b[0m\u001b[0;34m.\u001b[0m\u001b[0m_active_spark_context\u001b[0m \u001b[0;34m=\u001b[0m \u001b[0minstance\u001b[0m\u001b[0;34m\u001b[0m\u001b[0;34m\u001b[0m\u001b[0m\n",
            "\u001b[0;31mValueError\u001b[0m: Cannot run multiple SparkContexts at once; existing SparkContext(app=pyspark-shell, master=local[*]) created by __init__ at <ipython-input-1-78792445283c>:3 "
          ]
        }
      ]
    },
    {
      "cell_type": "markdown",
      "metadata": {
        "id": "Lq6ajuHbCC5d"
      },
      "source": [
        "## Our task is to classify San Francisco Crime Description into 33 pre-defined categories"
      ]
    },
    {
      "cell_type": "code",
      "metadata": {
        "id": "w7rT9FUQn4wx"
      },
      "source": [
        "data = sqlContext.read.format('com.databricks.spark.csv').options(header='true', inferschema='true').load('/content/train.csv')"
      ],
      "execution_count": 15,
      "outputs": []
    },
    {
      "cell_type": "code",
      "metadata": {
        "colab": {
          "base_uri": "https://localhost:8080/"
        },
        "id": "72IwWeUQZV8l",
        "outputId": "fb61aba5-9a87-4ae4-f014-accc4843944d"
      },
      "source": [
        "data.head()"
      ],
      "execution_count": 17,
      "outputs": [
        {
          "output_type": "execute_result",
          "data": {
            "text/plain": [
              "Row(Dates='2015-05-13 23:53:00', Category='WARRANTS', Descript='WARRANT ARREST', DayOfWeek='Wednesday', PdDistrict='NORTHERN', Resolution='ARREST, BOOKED', Address='OAK ST / LAGUNA ST', X=-122.425891675136, Y=37.7745985956747)"
            ]
          },
          "metadata": {
            "tags": []
          },
          "execution_count": 17
        }
      ]
    },
    {
      "cell_type": "code",
      "metadata": {
        "colab": {
          "base_uri": "https://localhost:8080/"
        },
        "id": "HK7mVthUfgSd",
        "outputId": "d1a547a6-869b-4284-8b5c-fa7f21f7d8c0"
      },
      "source": [
        "drop_list = ['Dates', 'DayOfWeek', 'PdDistrict', 'Resolution', 'Address', 'X', 'Y']\r\n",
        "data = data.select([column for column in data.columns if column not in drop_list])\r\n",
        "data.show(5)"
      ],
      "execution_count": 18,
      "outputs": [
        {
          "output_type": "stream",
          "text": [
            "+--------------+--------------------+\n",
            "|      Category|            Descript|\n",
            "+--------------+--------------------+\n",
            "|      WARRANTS|      WARRANT ARREST|\n",
            "|OTHER OFFENSES|TRAFFIC VIOLATION...|\n",
            "|OTHER OFFENSES|TRAFFIC VIOLATION...|\n",
            "| LARCENY/THEFT|GRAND THEFT FROM ...|\n",
            "| LARCENY/THEFT|GRAND THEFT FROM ...|\n",
            "+--------------+--------------------+\n",
            "only showing top 5 rows\n",
            "\n"
          ],
          "name": "stdout"
        }
      ]
    },
    {
      "cell_type": "code",
      "metadata": {
        "colab": {
          "base_uri": "https://localhost:8080/"
        },
        "id": "MBl9mi0iftOv",
        "outputId": "be98620c-4879-4a06-bf24-7bdf49be4d54"
      },
      "source": [
        "data.printSchema()"
      ],
      "execution_count": 19,
      "outputs": [
        {
          "output_type": "stream",
          "text": [
            "root\n",
            " |-- Category: string (nullable = true)\n",
            " |-- Descript: string (nullable = true)\n",
            "\n"
          ],
          "name": "stdout"
        }
      ]
    },
    {
      "cell_type": "code",
      "metadata": {
        "id": "Qsms3ZGJgGl6"
      },
      "source": [
        "from pyspark.sql.functions import col"
      ],
      "execution_count": 20,
      "outputs": []
    },
    {
      "cell_type": "code",
      "metadata": {
        "id": "b-zmxdLHi5ai"
      },
      "source": [
        "# Top 20 Crime  Categories"
      ],
      "execution_count": 31,
      "outputs": []
    },
    {
      "cell_type": "code",
      "metadata": {
        "colab": {
          "base_uri": "https://localhost:8080/"
        },
        "id": "hvi6xkMWgVkf",
        "outputId": "060edc5e-7942-42d4-867a-e9d204465fd3"
      },
      "source": [
        "data.groupBy(\"Category\") \\\r\n",
        ".count() \\\r\n",
        ".orderBy(col(\"count\").desc()) \\\r\n",
        ".show()"
      ],
      "execution_count": 25,
      "outputs": [
        {
          "output_type": "stream",
          "text": [
            "+--------------------+------+\n",
            "|            Category| count|\n",
            "+--------------------+------+\n",
            "|       LARCENY/THEFT|174900|\n",
            "|      OTHER OFFENSES|126182|\n",
            "|        NON-CRIMINAL| 92304|\n",
            "|             ASSAULT| 76876|\n",
            "|       DRUG/NARCOTIC| 53971|\n",
            "|       VEHICLE THEFT| 53781|\n",
            "|           VANDALISM| 44725|\n",
            "|            WARRANTS| 42214|\n",
            "|            BURGLARY| 36755|\n",
            "|      SUSPICIOUS OCC| 31414|\n",
            "|      MISSING PERSON| 25989|\n",
            "|             ROBBERY| 23000|\n",
            "|               FRAUD| 16679|\n",
            "|FORGERY/COUNTERFE...| 10609|\n",
            "|     SECONDARY CODES|  9985|\n",
            "|         WEAPON LAWS|  8555|\n",
            "|        PROSTITUTION|  7484|\n",
            "|            TRESPASS|  7326|\n",
            "|     STOLEN PROPERTY|  4540|\n",
            "|SEX OFFENSES FORC...|  4388|\n",
            "+--------------------+------+\n",
            "only showing top 20 rows\n",
            "\n"
          ],
          "name": "stdout"
        }
      ]
    },
    {
      "cell_type": "code",
      "metadata": {
        "id": "BAwtXNyJi8HS"
      },
      "source": [
        "# Top 20 Crime Descriptions"
      ],
      "execution_count": 32,
      "outputs": []
    },
    {
      "cell_type": "code",
      "metadata": {
        "colab": {
          "base_uri": "https://localhost:8080/"
        },
        "id": "xVnhWEgsgnwe",
        "outputId": "236eedcf-2c31-472f-eb53-8fbab3eb6f36"
      },
      "source": [
        "data.groupBy(\"Descript\").count().orderBy(col(\"count\").desc()).show()"
      ],
      "execution_count": 33,
      "outputs": [
        {
          "output_type": "stream",
          "text": [
            "+--------------------+-----+\n",
            "|            Descript|count|\n",
            "+--------------------+-----+\n",
            "|GRAND THEFT FROM ...|60022|\n",
            "|       LOST PROPERTY|31729|\n",
            "|             BATTERY|27441|\n",
            "|   STOLEN AUTOMOBILE|26897|\n",
            "|DRIVERS LICENSE, ...|26839|\n",
            "|      WARRANT ARREST|23754|\n",
            "|SUSPICIOUS OCCURR...|21891|\n",
            "|AIDED CASE, MENTA...|21497|\n",
            "|PETTY THEFT FROM ...|19771|\n",
            "|MALICIOUS MISCHIE...|17789|\n",
            "|   TRAFFIC VIOLATION|16471|\n",
            "|PETTY THEFT OF PR...|16196|\n",
            "|MALICIOUS MISCHIE...|15957|\n",
            "|THREATS AGAINST LIFE|14716|\n",
            "|      FOUND PROPERTY|12146|\n",
            "|ENROUTE TO OUTSID...|11470|\n",
            "|GRAND THEFT OF PR...|11010|\n",
            "|POSSESSION OF NAR...|10050|\n",
            "|PETTY THEFT FROM ...|10029|\n",
            "|PETTY THEFT SHOPL...| 9571|\n",
            "+--------------------+-----+\n",
            "only showing top 20 rows\n",
            "\n"
          ],
          "name": "stdout"
        }
      ]
    },
    {
      "cell_type": "code",
      "metadata": {
        "id": "53AnAkEYiTpt"
      },
      "source": [
        "## Model Pipeline -- 3 Steps --\r\n",
        "#### regexTokenizer\r\n",
        "#### stopwordRemoval\r\n",
        "#### countVectors"
      ],
      "execution_count": 35,
      "outputs": []
    },
    {
      "cell_type": "code",
      "metadata": {
        "id": "LqUenQb1jPH1"
      },
      "source": [
        "from pyspark.ml.feature import RegexTokenizer, StopWordsRemover, CountVectorizer\r\n",
        "from pyspark.ml.classification import LogisticRegression\r\n",
        "from pyspark.ml import Pipeline\r\n",
        "from pyspark.ml.feature import OneHotEncoder, StringIndexer, VectorAssembler\r\n",
        "from pyspark.ml.feature import StringIndexer"
      ],
      "execution_count": 50,
      "outputs": []
    },
    {
      "cell_type": "code",
      "metadata": {
        "id": "nid3AXf7khr0"
      },
      "source": [
        "# regular expression tokenizer\r\n",
        "regexTokenizer = RegexTokenizer(inputCol=\"Descript\", outputCol=\"words\", pattern=\"\\\\W\")\r\n",
        "\r\n",
        "# stop words\r\n",
        "add_stopwords = [\"http\",\"https\",\"amp\",\"rt\",\"t\",\"c\",\"the\"] \r\n",
        "stopwordsRemover = StopWordsRemover(inputCol=\"words\", outputCol=\"filtered\").setStopWords(add_stopwords)\r\n",
        "\r\n"
      ],
      "execution_count": 79,
      "outputs": []
    },
    {
      "cell_type": "code",
      "metadata": {
        "id": "qjGwcds2pCx_"
      },
      "source": [
        "# bag of words count\r\n",
        "countVectors = CountVectorizer(inputCol=\"filtered\", outputCol=\"features\", vocabSize=10000, minDF=5)\r\n",
        "\r\n",
        "\r\n",
        "label_stringIdx = StringIndexer(inputCol = \"Category\", outputCol = \"label\")\r\n",
        "\r\n",
        "pipeline = Pipeline(stages=[regexTokenizer, stopwordsRemover, countVectors, label_stringIdx])"
      ],
      "execution_count": 56,
      "outputs": []
    },
    {
      "cell_type": "code",
      "metadata": {
        "colab": {
          "base_uri": "https://localhost:8080/"
        },
        "id": "pOTDUe3FsAAB",
        "outputId": "2eb83ff3-b6cd-4c5b-892b-d7cb42225c7b"
      },
      "source": [
        "# Fit the pipeline to training documents.\r\n",
        "pipelineFit = pipeline.fit(data)\r\n",
        "dataset = pipelineFit.transform(data)\r\n",
        "dataset.show(10)"
      ],
      "execution_count": 58,
      "outputs": [
        {
          "output_type": "stream",
          "text": [
            "+--------------+--------------------+--------------------+--------------------+--------------------+-----+\n",
            "|      Category|            Descript|               words|            filtered|            features|label|\n",
            "+--------------+--------------------+--------------------+--------------------+--------------------+-----+\n",
            "|      WARRANTS|      WARRANT ARREST|   [warrant, arrest]|   [warrant, arrest]|(809,[17,32],[1.0...|  7.0|\n",
            "|OTHER OFFENSES|TRAFFIC VIOLATION...|[traffic, violati...|[traffic, violati...|(809,[11,17,35],[...|  1.0|\n",
            "|OTHER OFFENSES|TRAFFIC VIOLATION...|[traffic, violati...|[traffic, violati...|(809,[11,17,35],[...|  1.0|\n",
            "| LARCENY/THEFT|GRAND THEFT FROM ...|[grand, theft, fr...|[grand, theft, fr...|(809,[0,2,3,4,6],...|  0.0|\n",
            "| LARCENY/THEFT|GRAND THEFT FROM ...|[grand, theft, fr...|[grand, theft, fr...|(809,[0,2,3,4,6],...|  0.0|\n",
            "| LARCENY/THEFT|GRAND THEFT FROM ...|[grand, theft, fr...|[grand, theft, fr...|(809,[0,2,3,4,104...|  0.0|\n",
            "| VEHICLE THEFT|   STOLEN AUTOMOBILE|[stolen, automobile]|[stolen, automobile]|(809,[8,28],[1.0,...|  5.0|\n",
            "| VEHICLE THEFT|   STOLEN AUTOMOBILE|[stolen, automobile]|[stolen, automobile]|(809,[8,28],[1.0,...|  5.0|\n",
            "| LARCENY/THEFT|GRAND THEFT FROM ...|[grand, theft, fr...|[grand, theft, fr...|(809,[0,2,3,4,6],...|  0.0|\n",
            "| LARCENY/THEFT|GRAND THEFT FROM ...|[grand, theft, fr...|[grand, theft, fr...|(809,[0,2,3,4,6],...|  0.0|\n",
            "+--------------+--------------------+--------------------+--------------------+--------------------+-----+\n",
            "only showing top 10 rows\n",
            "\n"
          ],
          "name": "stdout"
        }
      ]
    },
    {
      "cell_type": "code",
      "metadata": {
        "colab": {
          "base_uri": "https://localhost:8080/"
        },
        "id": "BxiuNSntsu3p",
        "outputId": "8dc07029-b2d5-4f38-bd65-30370313c74c"
      },
      "source": [
        "(trainingData, testData) = dataset.randomSplit([0.7,0.3], seed = 100)\r\n",
        "print(\"Training dataset Count: \" +str(trainingData.count()))\r\n",
        "print(\"Testing dataset Count: \" +str(testData.count()))"
      ],
      "execution_count": 61,
      "outputs": [
        {
          "output_type": "stream",
          "text": [
            "Training dataset Count: 614485\n",
            "Testing dataset Count: 263564\n"
          ],
          "name": "stdout"
        }
      ]
    },
    {
      "cell_type": "code",
      "metadata": {
        "id": "x3ncDV55vjjn"
      },
      "source": [
        "## Model Training and Evaluation"
      ],
      "execution_count": 60,
      "outputs": []
    },
    {
      "cell_type": "code",
      "metadata": {
        "id": "ktWSuMcbxIam"
      },
      "source": [
        "mlr = LogisticRegression(maxIter=500, regParam=0.3, elasticNetParam=0)\r\n",
        "lrModel = mlr.fit(trainingData)"
      ],
      "execution_count": 74,
      "outputs": []
    },
    {
      "cell_type": "code",
      "metadata": {
        "id": "IINN4pMrxNwp"
      },
      "source": [
        "predictions = lrModel.transform(testData)"
      ],
      "execution_count": 75,
      "outputs": []
    },
    {
      "cell_type": "code",
      "metadata": {
        "colab": {
          "base_uri": "https://localhost:8080/"
        },
        "id": "NsBZ0zC9xK_S",
        "outputId": "8ab6df6a-218e-49a2-e7fe-dc78f0a52e0e"
      },
      "source": [
        "predictions.filter(predictions['prediction'] == 2.0) \\\r\n",
        "    .select(\"Descript\",\"Category\",\"probability\",\"label\",\"prediction\") \\\r\n",
        "    .orderBy(\"probability\", ascending=False) \\\r\n",
        "    .show(n = 50, truncate = 30)"
      ],
      "execution_count": 76,
      "outputs": [
        {
          "output_type": "stream",
          "text": [
            "+------------------------------+---------------+------------------------------+-----+----------+\n",
            "|                      Descript|       Category|                   probability|label|prediction|\n",
            "+------------------------------+---------------+------------------------------+-----+----------+\n",
            "|DESTRUCTION OF PROPERTY WIT...|    WEAPON LAWS|[0.12667520546547523,0.0787...| 15.0|       2.0|\n",
            "|DESTRUCTION OF PROPERTY WIT...|    WEAPON LAWS|[0.12667520546547523,0.0787...| 15.0|       2.0|\n",
            "|DESTRUCTION OF PROPERTY WIT...|    WEAPON LAWS|[0.12667520546547523,0.0787...| 15.0|       2.0|\n",
            "|INSURED PROPERTY, DESTRUCTI...| OTHER OFFENSES|[0.12241560017104001,0.0888...|  1.0|       2.0|\n",
            "|INSURED PROPERTY, DESTRUCTI...| OTHER OFFENSES|[0.12241560017104001,0.0888...|  1.0|       2.0|\n",
            "|     RECEIVING STOLEN PROPERTY|STOLEN PROPERTY|[0.1185681758893363,0.09425...| 18.0|       2.0|\n",
            "|     RECEIVING STOLEN PROPERTY|STOLEN PROPERTY|[0.1185681758893363,0.09425...| 18.0|       2.0|\n",
            "|     RECEIVING STOLEN PROPERTY|STOLEN PROPERTY|[0.1185681758893363,0.09425...| 18.0|       2.0|\n",
            "|     RECEIVING STOLEN PROPERTY|STOLEN PROPERTY|[0.1185681758893363,0.09425...| 18.0|       2.0|\n",
            "|     RECEIVING STOLEN PROPERTY|STOLEN PROPERTY|[0.1185681758893363,0.09425...| 18.0|       2.0|\n",
            "|     RECEIVING STOLEN PROPERTY|STOLEN PROPERTY|[0.1185681758893363,0.09425...| 18.0|       2.0|\n",
            "|     RECEIVING STOLEN PROPERTY|STOLEN PROPERTY|[0.1185681758893363,0.09425...| 18.0|       2.0|\n",
            "|     RECEIVING STOLEN PROPERTY|STOLEN PROPERTY|[0.1185681758893363,0.09425...| 18.0|       2.0|\n",
            "|     RECEIVING STOLEN PROPERTY|STOLEN PROPERTY|[0.1185681758893363,0.09425...| 18.0|       2.0|\n",
            "|     RECEIVING STOLEN PROPERTY|STOLEN PROPERTY|[0.1185681758893363,0.09425...| 18.0|       2.0|\n",
            "|     RECEIVING STOLEN PROPERTY|STOLEN PROPERTY|[0.1185681758893363,0.09425...| 18.0|       2.0|\n",
            "|     RECEIVING STOLEN PROPERTY|STOLEN PROPERTY|[0.1185681758893363,0.09425...| 18.0|       2.0|\n",
            "|     RECEIVING STOLEN PROPERTY|STOLEN PROPERTY|[0.1185681758893363,0.09425...| 18.0|       2.0|\n",
            "|     RECEIVING STOLEN PROPERTY|STOLEN PROPERTY|[0.1185681758893363,0.09425...| 18.0|       2.0|\n",
            "|     RECEIVING STOLEN PROPERTY|STOLEN PROPERTY|[0.1185681758893363,0.09425...| 18.0|       2.0|\n",
            "|     RECEIVING STOLEN PROPERTY|STOLEN PROPERTY|[0.1185681758893363,0.09425...| 18.0|       2.0|\n",
            "|     RECEIVING STOLEN PROPERTY|STOLEN PROPERTY|[0.1185681758893363,0.09425...| 18.0|       2.0|\n",
            "|     RECEIVING STOLEN PROPERTY|STOLEN PROPERTY|[0.1185681758893363,0.09425...| 18.0|       2.0|\n",
            "|     RECEIVING STOLEN PROPERTY|STOLEN PROPERTY|[0.1185681758893363,0.09425...| 18.0|       2.0|\n",
            "|     RECEIVING STOLEN PROPERTY|STOLEN PROPERTY|[0.1185681758893363,0.09425...| 18.0|       2.0|\n",
            "|     RECEIVING STOLEN PROPERTY|STOLEN PROPERTY|[0.1185681758893363,0.09425...| 18.0|       2.0|\n",
            "|     RECEIVING STOLEN PROPERTY|STOLEN PROPERTY|[0.1185681758893363,0.09425...| 18.0|       2.0|\n",
            "|     RECEIVING STOLEN PROPERTY|STOLEN PROPERTY|[0.1185681758893363,0.09425...| 18.0|       2.0|\n",
            "|     RECEIVING STOLEN PROPERTY|STOLEN PROPERTY|[0.1185681758893363,0.09425...| 18.0|       2.0|\n",
            "|     RECEIVING STOLEN PROPERTY|STOLEN PROPERTY|[0.1185681758893363,0.09425...| 18.0|       2.0|\n",
            "|     RECEIVING STOLEN PROPERTY|STOLEN PROPERTY|[0.1185681758893363,0.09425...| 18.0|       2.0|\n",
            "|     RECEIVING STOLEN PROPERTY|STOLEN PROPERTY|[0.1185681758893363,0.09425...| 18.0|       2.0|\n",
            "|     RECEIVING STOLEN PROPERTY|STOLEN PROPERTY|[0.1185681758893363,0.09425...| 18.0|       2.0|\n",
            "|     RECEIVING STOLEN PROPERTY|STOLEN PROPERTY|[0.1185681758893363,0.09425...| 18.0|       2.0|\n",
            "|     RECEIVING STOLEN PROPERTY|STOLEN PROPERTY|[0.1185681758893363,0.09425...| 18.0|       2.0|\n",
            "|     RECEIVING STOLEN PROPERTY|STOLEN PROPERTY|[0.1185681758893363,0.09425...| 18.0|       2.0|\n",
            "|     RECEIVING STOLEN PROPERTY|STOLEN PROPERTY|[0.1185681758893363,0.09425...| 18.0|       2.0|\n",
            "|     RECEIVING STOLEN PROPERTY|STOLEN PROPERTY|[0.1185681758893363,0.09425...| 18.0|       2.0|\n",
            "|     RECEIVING STOLEN PROPERTY|STOLEN PROPERTY|[0.1185681758893363,0.09425...| 18.0|       2.0|\n",
            "|     RECEIVING STOLEN PROPERTY|STOLEN PROPERTY|[0.1185681758893363,0.09425...| 18.0|       2.0|\n",
            "|     RECEIVING STOLEN PROPERTY|STOLEN PROPERTY|[0.1185681758893363,0.09425...| 18.0|       2.0|\n",
            "|     RECEIVING STOLEN PROPERTY|STOLEN PROPERTY|[0.1185681758893363,0.09425...| 18.0|       2.0|\n",
            "|     RECEIVING STOLEN PROPERTY|STOLEN PROPERTY|[0.1185681758893363,0.09425...| 18.0|       2.0|\n",
            "|     RECEIVING STOLEN PROPERTY|STOLEN PROPERTY|[0.1185681758893363,0.09425...| 18.0|       2.0|\n",
            "|     RECEIVING STOLEN PROPERTY|STOLEN PROPERTY|[0.1185681758893363,0.09425...| 18.0|       2.0|\n",
            "|     RECEIVING STOLEN PROPERTY|STOLEN PROPERTY|[0.1185681758893363,0.09425...| 18.0|       2.0|\n",
            "|     RECEIVING STOLEN PROPERTY|STOLEN PROPERTY|[0.1185681758893363,0.09425...| 18.0|       2.0|\n",
            "|     RECEIVING STOLEN PROPERTY|STOLEN PROPERTY|[0.1185681758893363,0.09425...| 18.0|       2.0|\n",
            "|     RECEIVING STOLEN PROPERTY|STOLEN PROPERTY|[0.1185681758893363,0.09425...| 18.0|       2.0|\n",
            "|     RECEIVING STOLEN PROPERTY|STOLEN PROPERTY|[0.1185681758893363,0.09425...| 18.0|       2.0|\n",
            "+------------------------------+---------------+------------------------------+-----+----------+\n",
            "only showing top 50 rows\n",
            "\n"
          ],
          "name": "stdout"
        }
      ]
    },
    {
      "cell_type": "code",
      "metadata": {
        "colab": {
          "base_uri": "https://localhost:8080/"
        },
        "id": "UuN6ZEMnwAQ9",
        "outputId": "07477492-120d-4050-d21b-4441d047d9eb"
      },
      "source": [
        "from pyspark.ml.evaluation import MulticlassClassificationEvaluator\r\n",
        "evaluator = MulticlassClassificationEvaluator(predictionCol=\"prediction\")\r\n",
        "evaluator.evaluate(predictions)"
      ],
      "execution_count": 77,
      "outputs": [
        {
          "output_type": "execute_result",
          "data": {
            "text/plain": [
              "0.9726153024477426"
            ]
          },
          "metadata": {
            "tags": []
          },
          "execution_count": 77
        }
      ]
    },
    {
      "cell_type": "code",
      "metadata": {
        "id": "ZzhYlwDEzT4f"
      },
      "source": [
        "## Logistic Regression usinf TF-IDF Features"
      ],
      "execution_count": 73,
      "outputs": []
    },
    {
      "cell_type": "code",
      "metadata": {
        "id": "ZTeMjuhZz7z3"
      },
      "source": [
        "from pyspark.ml.feature import HashingTF, IDF"
      ],
      "execution_count": 80,
      "outputs": []
    },
    {
      "cell_type": "code",
      "metadata": {
        "id": "Bld9WHoz2qG3"
      },
      "source": [
        "hashingTF = HashingTF(inputCol=\"filtered\", outputCol=\"rawFeatures\", numFeatures=10000)\r\n",
        "\r\n",
        "idf = IDF(inputCol=\"rawFeatures\", outputCol=\"features\", minDocFreq=5) #minDocFreq: remove sparse terms\r\n",
        "\r\n",
        "pipeline = Pipeline(stages=[regexTokenizer, stopwordsRemover, hashingTF, idf, label_stringIdx])\r\n",
        "\r\n",
        "pipelineFit = pipeline.fit(data)\r\n"
      ],
      "execution_count": 81,
      "outputs": []
    },
    {
      "cell_type": "code",
      "metadata": {
        "id": "RuSR8unC2-u8"
      },
      "source": [
        "dataset = pipelineFit.transform(data)\r\n",
        "(trainingData, testData) = dataset.randomSplit([0.7, 0.3], seed = 100)\r\n",
        "lr = LogisticRegression(maxIter=20, regParam=0.3, elasticNetParam=0)\r\n",
        "lrModel = lr.fit(trainingData)\r\n"
      ],
      "execution_count": 82,
      "outputs": []
    },
    {
      "cell_type": "code",
      "metadata": {
        "colab": {
          "base_uri": "https://localhost:8080/"
        },
        "id": "0z0k2t3q3BnW",
        "outputId": "31d38862-6084-46f9-d226-3799cc4bf35a"
      },
      "source": [
        "predictions = lrModel.transform(testData)\r\n",
        "predictions.filter(predictions['prediction'] == 0) \\\r\n",
        "    .select(\"Descript\",\"Category\",\"probability\",\"label\",\"prediction\") \\\r\n",
        "    .orderBy(\"probability\", ascending=False) \\\r\n",
        "    .show(n = 10, truncate = 30)"
      ],
      "execution_count": 83,
      "outputs": [
        {
          "output_type": "stream",
          "text": [
            "+------------------------------+-------------+------------------------------+-----+----------+\n",
            "|                      Descript|     Category|                   probability|label|prediction|\n",
            "+------------------------------+-------------+------------------------------+-----+----------+\n",
            "|THEFT, BICYCLE, <$50, NO SE...|LARCENY/THEFT|[0.883156090531307,0.018676...|  0.0|       0.0|\n",
            "|THEFT, BICYCLE, <$50, NO SE...|LARCENY/THEFT|[0.883156090531307,0.018676...|  0.0|       0.0|\n",
            "|THEFT, BICYCLE, <$50, NO SE...|LARCENY/THEFT|[0.883156090531307,0.018676...|  0.0|       0.0|\n",
            "|THEFT, BICYCLE, <$50, NO SE...|LARCENY/THEFT|[0.883156090531307,0.018676...|  0.0|       0.0|\n",
            "|THEFT, BICYCLE, <$50, NO SE...|LARCENY/THEFT|[0.883156090531307,0.018676...|  0.0|       0.0|\n",
            "|THEFT, BICYCLE, <$50, NO SE...|LARCENY/THEFT|[0.883156090531307,0.018676...|  0.0|       0.0|\n",
            "|THEFT, BICYCLE, <$50, NO SE...|LARCENY/THEFT|[0.883156090531307,0.018676...|  0.0|       0.0|\n",
            "|THEFT, BICYCLE, <$50, NO SE...|LARCENY/THEFT|[0.883156090531307,0.018676...|  0.0|       0.0|\n",
            "|THEFT, GRAND, BY FIDUCIARY,...|LARCENY/THEFT|[0.8653457817689981,0.01459...|  0.0|       0.0|\n",
            "|THEFT, GRAND, BY FIDUCIARY,...|LARCENY/THEFT|[0.8653457817689981,0.01459...|  0.0|       0.0|\n",
            "+------------------------------+-------------+------------------------------+-----+----------+\n",
            "only showing top 10 rows\n",
            "\n"
          ],
          "name": "stdout"
        }
      ]
    },
    {
      "cell_type": "code",
      "metadata": {
        "colab": {
          "base_uri": "https://localhost:8080/"
        },
        "id": "op0vlFdH34dG",
        "outputId": "cc2cdc8e-f820-432d-ef84-6a43a01890b8"
      },
      "source": [
        "evaluator = MulticlassClassificationEvaluator(predictionCol=\"prediction\")\r\n",
        "evaluator.evaluate(predictions)"
      ],
      "execution_count": 84,
      "outputs": [
        {
          "output_type": "execute_result",
          "data": {
            "text/plain": [
              "0.9718749357100661"
            ]
          },
          "metadata": {
            "tags": []
          },
          "execution_count": 84
        }
      ]
    },
    {
      "cell_type": "code",
      "metadata": {
        "id": "Nr_DBZi54Qmx"
      },
      "source": [
        "## Naive Bayes"
      ],
      "execution_count": 85,
      "outputs": []
    },
    {
      "cell_type": "code",
      "metadata": {
        "colab": {
          "base_uri": "https://localhost:8080/"
        },
        "id": "CIA0UHAY6hCF",
        "outputId": "d49e37a7-9b24-47da-8e8d-6aec7723146f"
      },
      "source": [
        "from pyspark.ml.classification import NaiveBayes\r\n",
        "nb = NaiveBayes(smoothing=1)\r\n",
        "model = nb.fit(trainingData)\r\n",
        "predictions = model.transform(testData)\r\n",
        "predictions.filter(predictions['prediction'] == 0) \\\r\n",
        "    .select(\"Descript\",\"Category\",\"probability\",\"label\",\"prediction\") \\\r\n",
        "    .orderBy(\"probability\", ascending=False) \\\r\n",
        "    .show(n = 10, truncate = 30)"
      ],
      "execution_count": 86,
      "outputs": [
        {
          "output_type": "stream",
          "text": [
            "+-------------------+-------------+------------------------------+-----+----------+\n",
            "|           Descript|     Category|                   probability|label|prediction|\n",
            "+-------------------+-------------+------------------------------+-----+----------+\n",
            "|GRAND THEFT BICYCLE|LARCENY/THEFT|[1.0,1.3251523437990594E-29...|  0.0|       0.0|\n",
            "|GRAND THEFT BICYCLE|LARCENY/THEFT|[1.0,1.3251523437990594E-29...|  0.0|       0.0|\n",
            "|GRAND THEFT BICYCLE|LARCENY/THEFT|[1.0,1.3251523437990594E-29...|  0.0|       0.0|\n",
            "|GRAND THEFT BICYCLE|LARCENY/THEFT|[1.0,1.3251523437990594E-29...|  0.0|       0.0|\n",
            "|GRAND THEFT BICYCLE|LARCENY/THEFT|[1.0,1.3251523437990594E-29...|  0.0|       0.0|\n",
            "|GRAND THEFT BICYCLE|LARCENY/THEFT|[1.0,1.3251523437990594E-29...|  0.0|       0.0|\n",
            "|GRAND THEFT BICYCLE|LARCENY/THEFT|[1.0,1.3251523437990594E-29...|  0.0|       0.0|\n",
            "|GRAND THEFT BICYCLE|LARCENY/THEFT|[1.0,1.3251523437990594E-29...|  0.0|       0.0|\n",
            "|GRAND THEFT BICYCLE|LARCENY/THEFT|[1.0,1.3251523437990594E-29...|  0.0|       0.0|\n",
            "|GRAND THEFT BICYCLE|LARCENY/THEFT|[1.0,1.3251523437990594E-29...|  0.0|       0.0|\n",
            "+-------------------+-------------+------------------------------+-----+----------+\n",
            "only showing top 10 rows\n",
            "\n"
          ],
          "name": "stdout"
        }
      ]
    },
    {
      "cell_type": "code",
      "metadata": {
        "colab": {
          "base_uri": "https://localhost:8080/"
        },
        "id": "97Sku7h_65lV",
        "outputId": "81a70eb5-5bd9-42c6-98e1-032dffd5b00e"
      },
      "source": [
        "evaluator = MulticlassClassificationEvaluator(predictionCol=\"prediction\")\r\n",
        "evaluator.evaluate(predictions)"
      ],
      "execution_count": 87,
      "outputs": [
        {
          "output_type": "execute_result",
          "data": {
            "text/plain": [
              "0.9951106098719483"
            ]
          },
          "metadata": {
            "tags": []
          },
          "execution_count": 87
        }
      ]
    },
    {
      "cell_type": "code",
      "metadata": {
        "id": "w62M1K_37UOQ"
      },
      "source": [
        "## Randome Forest"
      ],
      "execution_count": 88,
      "outputs": []
    },
    {
      "cell_type": "code",
      "metadata": {
        "colab": {
          "base_uri": "https://localhost:8080/"
        },
        "id": "Mn8ukrV77p0r",
        "outputId": "da0e355a-9b18-441d-9c5b-545c9f0ca792"
      },
      "source": [
        "from pyspark.ml.classification import RandomForestClassifier\r\n",
        "rf = RandomForestClassifier(labelCol=\"label\", \\\r\n",
        "                            featuresCol=\"features\", \\\r\n",
        "                            numTrees = 100, \\\r\n",
        "                            maxDepth = 4, \\\r\n",
        "                            maxBins = 32)\r\n",
        "# Train model with Training Data\r\n",
        "rfModel = rf.fit(trainingData)\r\n",
        "predictions = rfModel.transform(testData)\r\n",
        "predictions.filter(predictions['prediction'] == 0) \\\r\n",
        "    .select(\"Descript\",\"Category\",\"probability\",\"label\",\"prediction\") \\\r\n",
        "    .orderBy(\"probability\", ascending=False) \\\r\n",
        "    .show(n = 10, truncate = 30)"
      ],
      "execution_count": 89,
      "outputs": [
        {
          "output_type": "stream",
          "text": [
            "+----------------------------+-------------+------------------------------+-----+----------+\n",
            "|                    Descript|     Category|                   probability|label|prediction|\n",
            "+----------------------------+-------------+------------------------------+-----+----------+\n",
            "|PETTY THEFT FROM LOCKED AUTO|LARCENY/THEFT|[0.33907378517288383,0.1175...|  0.0|       0.0|\n",
            "|PETTY THEFT FROM LOCKED AUTO|LARCENY/THEFT|[0.33907378517288383,0.1175...|  0.0|       0.0|\n",
            "|PETTY THEFT FROM LOCKED AUTO|LARCENY/THEFT|[0.33907378517288383,0.1175...|  0.0|       0.0|\n",
            "|PETTY THEFT FROM LOCKED AUTO|LARCENY/THEFT|[0.33907378517288383,0.1175...|  0.0|       0.0|\n",
            "|PETTY THEFT FROM LOCKED AUTO|LARCENY/THEFT|[0.33907378517288383,0.1175...|  0.0|       0.0|\n",
            "|PETTY THEFT FROM LOCKED AUTO|LARCENY/THEFT|[0.33907378517288383,0.1175...|  0.0|       0.0|\n",
            "|PETTY THEFT FROM LOCKED AUTO|LARCENY/THEFT|[0.33907378517288383,0.1175...|  0.0|       0.0|\n",
            "|PETTY THEFT FROM LOCKED AUTO|LARCENY/THEFT|[0.33907378517288383,0.1175...|  0.0|       0.0|\n",
            "|PETTY THEFT FROM LOCKED AUTO|LARCENY/THEFT|[0.33907378517288383,0.1175...|  0.0|       0.0|\n",
            "|PETTY THEFT FROM LOCKED AUTO|LARCENY/THEFT|[0.33907378517288383,0.1175...|  0.0|       0.0|\n",
            "+----------------------------+-------------+------------------------------+-----+----------+\n",
            "only showing top 10 rows\n",
            "\n"
          ],
          "name": "stdout"
        }
      ]
    },
    {
      "cell_type": "code",
      "metadata": {
        "colab": {
          "base_uri": "https://localhost:8080/"
        },
        "id": "y8wZazr_7uwy",
        "outputId": "76aea464-b1b0-4eee-a536-3e37ea71e56e"
      },
      "source": [
        "evaluator = MulticlassClassificationEvaluator(predictionCol=\"prediction\")\r\n",
        "evaluator.evaluate(predictions)"
      ],
      "execution_count": 90,
      "outputs": [
        {
          "output_type": "execute_result",
          "data": {
            "text/plain": [
              "0.38356261031655625"
            ]
          },
          "metadata": {
            "tags": []
          },
          "execution_count": 90
        }
      ]
    },
    {
      "cell_type": "code",
      "metadata": {
        "id": "-pYF7fWh-gvd"
      },
      "source": [
        ""
      ],
      "execution_count": null,
      "outputs": []
    }
  ]
}